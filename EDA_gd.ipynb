{
 "cells": [
  {
   "cell_type": "code",
   "execution_count": 1,
   "metadata": {},
   "outputs": [],
   "source": [
    "import pandas as pd\n",
    "import matplotlib.pyplot as plt\n",
    "import seaborn as sns"
   ]
  },
  {
   "cell_type": "code",
   "execution_count": 2,
   "metadata": {},
   "outputs": [],
   "source": [
    "df=pd.read_csv('data_cleaned_gd.csv')"
   ]
  },
  {
   "cell_type": "code",
   "execution_count": 3,
   "metadata": {},
   "outputs": [
    {
     "data": {
      "text/html": [
       "<div>\n",
       "<style scoped>\n",
       "    .dataframe tbody tr th:only-of-type {\n",
       "        vertical-align: middle;\n",
       "    }\n",
       "\n",
       "    .dataframe tbody tr th {\n",
       "        vertical-align: top;\n",
       "    }\n",
       "\n",
       "    .dataframe thead th {\n",
       "        text-align: right;\n",
       "    }\n",
       "</style>\n",
       "<table border=\"1\" class=\"dataframe\">\n",
       "  <thead>\n",
       "    <tr style=\"text-align: right;\">\n",
       "      <th></th>\n",
       "      <th>Unnamed: 0</th>\n",
       "      <th>index</th>\n",
       "      <th>Rating</th>\n",
       "      <th>Founded</th>\n",
       "      <th>min_salary</th>\n",
       "      <th>max_salary</th>\n",
       "      <th>avg_salary</th>\n",
       "      <th>age</th>\n",
       "      <th>python</th>\n",
       "      <th>R</th>\n",
       "      <th>Spark</th>\n",
       "      <th>AWS</th>\n",
       "      <th>Excel</th>\n",
       "      <th>SQL</th>\n",
       "      <th>machine_learning</th>\n",
       "      <th>AI</th>\n",
       "      <th>desc_len</th>\n",
       "      <th>num_comp</th>\n",
       "    </tr>\n",
       "  </thead>\n",
       "  <tbody>\n",
       "    <tr>\n",
       "      <th>count</th>\n",
       "      <td>800.0000</td>\n",
       "      <td>800.000000</td>\n",
       "      <td>800.00000</td>\n",
       "      <td>800.000000</td>\n",
       "      <td>800.000000</td>\n",
       "      <td>800.000000</td>\n",
       "      <td>800.000000</td>\n",
       "      <td>800.000000</td>\n",
       "      <td>800.000000</td>\n",
       "      <td>800.000000</td>\n",
       "      <td>800.000000</td>\n",
       "      <td>800.000000</td>\n",
       "      <td>800.000000</td>\n",
       "      <td>800.0</td>\n",
       "      <td>800.000000</td>\n",
       "      <td>800.0</td>\n",
       "      <td>800.000</td>\n",
       "      <td>800.000000</td>\n",
       "    </tr>\n",
       "    <tr>\n",
       "      <th>mean</th>\n",
       "      <td>399.5000</td>\n",
       "      <td>199.500000</td>\n",
       "      <td>3.68550</td>\n",
       "      <td>1718.453750</td>\n",
       "      <td>69.237500</td>\n",
       "      <td>107.062500</td>\n",
       "      <td>88.150000</td>\n",
       "      <td>36.158750</td>\n",
       "      <td>0.482500</td>\n",
       "      <td>0.011250</td>\n",
       "      <td>0.143750</td>\n",
       "      <td>0.182500</td>\n",
       "      <td>0.548750</td>\n",
       "      <td>0.0</td>\n",
       "      <td>0.308750</td>\n",
       "      <td>0.0</td>\n",
       "      <td>3493.360</td>\n",
       "      <td>0.756250</td>\n",
       "    </tr>\n",
       "    <tr>\n",
       "      <th>std</th>\n",
       "      <td>231.0844</td>\n",
       "      <td>115.541929</td>\n",
       "      <td>0.95394</td>\n",
       "      <td>670.266641</td>\n",
       "      <td>29.319458</td>\n",
       "      <td>35.334392</td>\n",
       "      <td>31.393422</td>\n",
       "      <td>47.313124</td>\n",
       "      <td>0.500006</td>\n",
       "      <td>0.105534</td>\n",
       "      <td>0.351056</td>\n",
       "      <td>0.386498</td>\n",
       "      <td>0.497929</td>\n",
       "      <td>0.0</td>\n",
       "      <td>0.462267</td>\n",
       "      <td>0.0</td>\n",
       "      <td>1791.466</td>\n",
       "      <td>1.248513</td>\n",
       "    </tr>\n",
       "    <tr>\n",
       "      <th>min</th>\n",
       "      <td>0.0000</td>\n",
       "      <td>0.000000</td>\n",
       "      <td>-1.00000</td>\n",
       "      <td>-1.000000</td>\n",
       "      <td>29.000000</td>\n",
       "      <td>38.000000</td>\n",
       "      <td>33.500000</td>\n",
       "      <td>-1.000000</td>\n",
       "      <td>0.000000</td>\n",
       "      <td>0.000000</td>\n",
       "      <td>0.000000</td>\n",
       "      <td>0.000000</td>\n",
       "      <td>0.000000</td>\n",
       "      <td>0.0</td>\n",
       "      <td>0.000000</td>\n",
       "      <td>0.0</td>\n",
       "      <td>141.000</td>\n",
       "      <td>0.000000</td>\n",
       "    </tr>\n",
       "    <tr>\n",
       "      <th>25%</th>\n",
       "      <td>199.7500</td>\n",
       "      <td>99.750000</td>\n",
       "      <td>3.40000</td>\n",
       "      <td>1939.000000</td>\n",
       "      <td>42.000000</td>\n",
       "      <td>78.000000</td>\n",
       "      <td>66.000000</td>\n",
       "      <td>8.000000</td>\n",
       "      <td>0.000000</td>\n",
       "      <td>0.000000</td>\n",
       "      <td>0.000000</td>\n",
       "      <td>0.000000</td>\n",
       "      <td>0.000000</td>\n",
       "      <td>0.0</td>\n",
       "      <td>0.000000</td>\n",
       "      <td>0.0</td>\n",
       "      <td>2362.000</td>\n",
       "      <td>0.000000</td>\n",
       "    </tr>\n",
       "    <tr>\n",
       "      <th>50%</th>\n",
       "      <td>399.5000</td>\n",
       "      <td>199.500000</td>\n",
       "      <td>3.80000</td>\n",
       "      <td>1992.000000</td>\n",
       "      <td>67.000000</td>\n",
       "      <td>104.000000</td>\n",
       "      <td>83.500000</td>\n",
       "      <td>21.000000</td>\n",
       "      <td>0.000000</td>\n",
       "      <td>0.000000</td>\n",
       "      <td>0.000000</td>\n",
       "      <td>0.000000</td>\n",
       "      <td>1.000000</td>\n",
       "      <td>0.0</td>\n",
       "      <td>0.000000</td>\n",
       "      <td>0.0</td>\n",
       "      <td>3260.000</td>\n",
       "      <td>0.000000</td>\n",
       "    </tr>\n",
       "    <tr>\n",
       "      <th>75%</th>\n",
       "      <td>599.2500</td>\n",
       "      <td>299.250000</td>\n",
       "      <td>4.12500</td>\n",
       "      <td>2006.000000</td>\n",
       "      <td>88.000000</td>\n",
       "      <td>127.000000</td>\n",
       "      <td>104.500000</td>\n",
       "      <td>44.000000</td>\n",
       "      <td>1.000000</td>\n",
       "      <td>0.000000</td>\n",
       "      <td>0.000000</td>\n",
       "      <td>0.000000</td>\n",
       "      <td>1.000000</td>\n",
       "      <td>0.0</td>\n",
       "      <td>1.000000</td>\n",
       "      <td>0.0</td>\n",
       "      <td>4379.000</td>\n",
       "      <td>2.000000</td>\n",
       "    </tr>\n",
       "    <tr>\n",
       "      <th>max</th>\n",
       "      <td>799.0000</td>\n",
       "      <td>399.000000</td>\n",
       "      <td>5.00000</td>\n",
       "      <td>2019.000000</td>\n",
       "      <td>150.000000</td>\n",
       "      <td>193.000000</td>\n",
       "      <td>158.500000</td>\n",
       "      <td>330.000000</td>\n",
       "      <td>1.000000</td>\n",
       "      <td>1.000000</td>\n",
       "      <td>1.000000</td>\n",
       "      <td>1.000000</td>\n",
       "      <td>1.000000</td>\n",
       "      <td>0.0</td>\n",
       "      <td>1.000000</td>\n",
       "      <td>0.0</td>\n",
       "      <td>18555.000</td>\n",
       "      <td>4.000000</td>\n",
       "    </tr>\n",
       "  </tbody>\n",
       "</table>\n",
       "</div>"
      ],
      "text/plain": [
       "       Unnamed: 0       index     Rating      Founded  min_salary  max_salary  \\\n",
       "count    800.0000  800.000000  800.00000   800.000000  800.000000  800.000000   \n",
       "mean     399.5000  199.500000    3.68550  1718.453750   69.237500  107.062500   \n",
       "std      231.0844  115.541929    0.95394   670.266641   29.319458   35.334392   \n",
       "min        0.0000    0.000000   -1.00000    -1.000000   29.000000   38.000000   \n",
       "25%      199.7500   99.750000    3.40000  1939.000000   42.000000   78.000000   \n",
       "50%      399.5000  199.500000    3.80000  1992.000000   67.000000  104.000000   \n",
       "75%      599.2500  299.250000    4.12500  2006.000000   88.000000  127.000000   \n",
       "max      799.0000  399.000000    5.00000  2019.000000  150.000000  193.000000   \n",
       "\n",
       "       avg_salary         age      python           R       Spark         AWS  \\\n",
       "count  800.000000  800.000000  800.000000  800.000000  800.000000  800.000000   \n",
       "mean    88.150000   36.158750    0.482500    0.011250    0.143750    0.182500   \n",
       "std     31.393422   47.313124    0.500006    0.105534    0.351056    0.386498   \n",
       "min     33.500000   -1.000000    0.000000    0.000000    0.000000    0.000000   \n",
       "25%     66.000000    8.000000    0.000000    0.000000    0.000000    0.000000   \n",
       "50%     83.500000   21.000000    0.000000    0.000000    0.000000    0.000000   \n",
       "75%    104.500000   44.000000    1.000000    0.000000    0.000000    0.000000   \n",
       "max    158.500000  330.000000    1.000000    1.000000    1.000000    1.000000   \n",
       "\n",
       "            Excel    SQL  machine_learning     AI   desc_len    num_comp  \n",
       "count  800.000000  800.0        800.000000  800.0    800.000  800.000000  \n",
       "mean     0.548750    0.0          0.308750    0.0   3493.360    0.756250  \n",
       "std      0.497929    0.0          0.462267    0.0   1791.466    1.248513  \n",
       "min      0.000000    0.0          0.000000    0.0    141.000    0.000000  \n",
       "25%      0.000000    0.0          0.000000    0.0   2362.000    0.000000  \n",
       "50%      1.000000    0.0          0.000000    0.0   3260.000    0.000000  \n",
       "75%      1.000000    0.0          1.000000    0.0   4379.000    2.000000  \n",
       "max      1.000000    0.0          1.000000    0.0  18555.000    4.000000  "
      ]
     },
     "execution_count": 3,
     "metadata": {},
     "output_type": "execute_result"
    }
   ],
   "source": [
    "\n",
    "#seeing the stats of data\n",
    "df.describe()"
   ]
  },
  {
   "cell_type": "code",
   "execution_count": 4,
   "metadata": {},
   "outputs": [],
   "source": [
    "df=df.drop(['index','Unnamed: 0'],axis=1)\n",
    "#also column SQL,AI doesn't have any mention which is weird"
   ]
  },
  {
   "cell_type": "code",
   "execution_count": 5,
   "metadata": {},
   "outputs": [
    {
     "data": {
      "text/plain": [
       "Index(['Job Title', 'Salary Estimate', 'Job Description', 'Rating',\n",
       "       'Company Name', 'Location', 'Headquarters', 'Size', 'Founded',\n",
       "       'Type of ownership', 'Industry', 'Sector', 'Revenue', 'Competitors',\n",
       "       'min_salary', 'max_salary', 'avg_salary', 'company_txt', 'age',\n",
       "       'python', 'R', 'Spark', 'AWS', 'Excel', 'SQL', 'machine_learning', 'AI',\n",
       "       'Seniority', 'Title', 'desc_len', 'num_comp', 'job_state'],\n",
       "      dtype='object')"
      ]
     },
     "execution_count": 5,
     "metadata": {},
     "output_type": "execute_result"
    }
   ],
   "source": [
    "#looking at columns\n",
    "df.columns"
   ]
  },
  {
   "cell_type": "code",
   "execution_count": 6,
   "metadata": {},
   "outputs": [
    {
     "data": {
      "text/plain": [
       "<matplotlib.axes._subplots.AxesSubplot at 0x7fe341080e10>"
      ]
     },
     "execution_count": 6,
     "metadata": {},
     "output_type": "execute_result"
    },
    {
     "data": {
      "image/png": "[encoded data removed]",
      "text/plain": [
       "<Figure size 432x288 with 1 Axes>"
      ]
     },
     "metadata": {
      "needs_background": "light"
     },
     "output_type": "display_data"
    }
   ],
   "source": [
    "#looking at the numerical features distribution\n",
    "df.Rating.hist()"
   ]
  },
  {
   "cell_type": "code",
   "execution_count": 7,
   "metadata": {},
   "outputs": [
    {
     "data": {
      "text/plain": [
       "<matplotlib.axes._subplots.AxesSubplot at 0x7fe341296b90>"
      ]
     },
     "execution_count": 7,
     "metadata": {},
     "output_type": "execute_result"
    },
    {
     "data": {
      "image/png": "[encoded data removed]",
      "text/plain": [
       "<Figure size 432x288 with 1 Axes>"
      ]
     },
     "metadata": {
      "needs_background": "light"
     },
     "output_type": "display_data"
    }
   ],
   "source": [
    "df.age.hist()"
   ]
  },
  {
   "cell_type": "code",
   "execution_count": 8,
   "metadata": {},
   "outputs": [
    {
     "data": {
      "text/plain": [
       "<matplotlib.axes._subplots.AxesSubplot at 0x7fe341378810>"
      ]
     },
     "execution_count": 8,
     "metadata": {},
     "output_type": "execute_result"
    },
    {
     "data": {
      "image/png": "[encoded data removed]",
      "text/plain": [
       "<Figure size 432x288 with 1 Axes>"
      ]
     },
     "metadata": {
      "needs_background": "light"
     },
     "output_type": "display_data"
    }
   ],
   "source": [
    "df['desc_len'].hist()"
   ]
  },
  {
   "cell_type": "code",
   "execution_count": 69,
   "metadata": {},
   "outputs": [
    {
     "data": {
      "image/png": "[encoded data removed]",
      "text/plain": [
       "<Figure size 1800x360 with 1 Axes>"
      ]
     },
     "metadata": {
      "needs_background": "light"
     },
     "output_type": "display_data"
    }
   ],
   "source": [
    "##plotting all attributes for skill class\n",
    "plt.figure(figsize=(25,5))\n",
    "dfskill=['python', 'R', 'Spark', 'AWS', 'Excel', 'machine_learning']\n",
    "for i in df_cat_small.columns:\n",
    "    \n",
    "    cat_num = df_cat_small[i].value_counts()\n",
    "    print(\"barplot for %s: total categories = %d\" % (i, len(cat_num)))\n",
    "    chart = sns.barplot(x=cat_num.index[0:5], y=cat_num[0:5])\n",
    "    chart.set_xticklabels(chart.get_xticklabels(), rotation=90)\n",
    "    plt.show()\n",
    "sns.barplot(data =df[df[skill]==1]);\n"
   ]
  },
  {
   "cell_type": "code",
   "execution_count": 10,
   "metadata": {},
   "outputs": [
    {
     "data": {
      "text/plain": [
       "<matplotlib.axes._subplots.AxesSubplot at 0x7fe3415d0750>"
      ]
     },
     "execution_count": 10,
     "metadata": {},
     "output_type": "execute_result"
    },
    {
     "data": {
      "image/png": "[encoded data removed]",
      "text/plain": [
       "<Figure size 432x288 with 1 Axes>"
      ]
     },
     "metadata": {
      "needs_background": "light"
     },
     "output_type": "display_data"
    }
   ],
   "source": [
    "\n",
    "df.avg_salary.hist()"
   ]
  },
  {
   "cell_type": "code",
   "execution_count": 11,
   "metadata": {},
   "outputs": [
    {
     "name": "stdout",
     "output_type": "stream",
     "text": [
      "<class 'pandas.core.frame.DataFrame'>\n",
      "Index: 7 entries, python to avg_salary\n",
      "Data columns (total 7 columns):\n",
      " #   Column            Non-Null Count  Dtype  \n",
      "---  ------            --------------  -----  \n",
      " 0   python            7 non-null      float64\n",
      " 1   R                 7 non-null      float64\n",
      " 2   Spark             7 non-null      float64\n",
      " 3   AWS               7 non-null      float64\n",
      " 4   Excel             7 non-null      float64\n",
      " 5   machine_learning  7 non-null      float64\n",
      " 6   avg_salary        7 non-null      float64\n",
      "dtypes: float64(7)\n",
      "memory usage: 448.0+ bytes\n"
     ]
    },
    {
     "data": {
      "image/png": "[encoded data removed]",
      "text/plain": [
       "<Figure size 864x288 with 2 Axes>"
      ]
     },
     "metadata": {
      "needs_background": "light"
     },
     "output_type": "display_data"
    }
   ],
   "source": [
    "#seeing how skills affect avg_salary\n",
    "f, ax = plt.subplots(figsize=(12, 4)) \n",
    "pearsoncorr = df[skill].corr(method='pearson')\n",
    "\n",
    "sns.heatmap(pearsoncorr, xticklabels=pearsoncorr.columns, yticklabels=pearsoncorr.columns, cmap='RdBu_r', annot=True, linewidth=0.9);\n",
    "pearsoncorr.info()"
   ]
  },
  {
   "cell_type": "code",
   "execution_count": 94,
   "metadata": {},
   "outputs": [],
   "source": [
    "df_cat = df[['Location','job_state', 'Headquarters', 'Size','Type of ownership', 'Industry','company_txt', 'Sector']]\n",
    "df_cat_small=df[['Revenue', 'company_txt', 'Title', 'Seniority']]\n",
    "df_skill=df[['python', 'R', 'Spark', 'AWS', 'Excel', 'machine_learning']]"
   ]
  },
  {
   "cell_type": "code",
   "execution_count": 101,
   "metadata": {},
   "outputs": [
    {
     "data": {
      "text/html": [
       "<div>\n",
       "<style scoped>\n",
       "    .dataframe tbody tr th:only-of-type {\n",
       "        vertical-align: middle;\n",
       "    }\n",
       "\n",
       "    .dataframe tbody tr th {\n",
       "        vertical-align: top;\n",
       "    }\n",
       "\n",
       "    .dataframe thead th {\n",
       "        text-align: right;\n",
       "    }\n",
       "</style>\n",
       "<table border=\"1\" class=\"dataframe\">\n",
       "  <thead>\n",
       "    <tr style=\"text-align: right;\">\n",
       "      <th></th>\n",
       "      <th>Location</th>\n",
       "      <th>job_state</th>\n",
       "      <th>Headquarters</th>\n",
       "      <th>Size</th>\n",
       "      <th>Type of ownership</th>\n",
       "      <th>Industry</th>\n",
       "      <th>company_txt</th>\n",
       "      <th>Sector</th>\n",
       "    </tr>\n",
       "  </thead>\n",
       "  <tbody>\n",
       "    <tr>\n",
       "      <th>0</th>\n",
       "      <td>Tempe, AZ</td>\n",
       "      <td>AZ</td>\n",
       "      <td>Bellevue, WA</td>\n",
       "      <td>201 to 500 employees</td>\n",
       "      <td>Company - Private</td>\n",
       "      <td>Insurance Agencies &amp; Brokerages</td>\n",
       "      <td>Efinancial</td>\n",
       "      <td>Insurance</td>\n",
       "    </tr>\n",
       "    <tr>\n",
       "      <th>1</th>\n",
       "      <td>Yakima, WA</td>\n",
       "      <td>WA</td>\n",
       "      <td>Yakima, WA</td>\n",
       "      <td>501 to 1000 employees</td>\n",
       "      <td>Nonprofit Organization</td>\n",
       "      <td>Health Care Services &amp; Hospitals</td>\n",
       "      <td>Comprehensive Healthcare</td>\n",
       "      <td>Health Care</td>\n",
       "    </tr>\n",
       "    <tr>\n",
       "      <th>2</th>\n",
       "      <td>Washington, DC</td>\n",
       "      <td>DC</td>\n",
       "      <td>New York, NY</td>\n",
       "      <td>501 to 1000 employees</td>\n",
       "      <td>Private Practice / Firm</td>\n",
       "      <td>Accounting</td>\n",
       "      <td>Mark Paneth</td>\n",
       "      <td>Accounting &amp; Legal</td>\n",
       "    </tr>\n",
       "    <tr>\n",
       "      <th>3</th>\n",
       "      <td>San Mateo, CA</td>\n",
       "      <td>CA</td>\n",
       "      <td>Seoul, South Korea</td>\n",
       "      <td>1001 to 5000 employees</td>\n",
       "      <td>Company - Public</td>\n",
       "      <td>Video Games</td>\n",
       "      <td>NCSOFT</td>\n",
       "      <td>Media</td>\n",
       "    </tr>\n",
       "    <tr>\n",
       "      <th>4</th>\n",
       "      <td>New York, NY</td>\n",
       "      <td>NY</td>\n",
       "      <td>New York, NY</td>\n",
       "      <td>1001 to 5000 employees</td>\n",
       "      <td>School / School District</td>\n",
       "      <td>K-12 Education</td>\n",
       "      <td>Success Academy Charter Schools</td>\n",
       "      <td>Education</td>\n",
       "    </tr>\n",
       "  </tbody>\n",
       "</table>\n",
       "</div>"
      ],
      "text/plain": [
       "         Location job_state        Headquarters                    Size  \\\n",
       "0       Tempe, AZ        AZ        Bellevue, WA    201 to 500 employees   \n",
       "1      Yakima, WA        WA          Yakima, WA   501 to 1000 employees   \n",
       "2  Washington, DC        DC        New York, NY   501 to 1000 employees   \n",
       "3   San Mateo, CA        CA  Seoul, South Korea  1001 to 5000 employees   \n",
       "4    New York, NY        NY        New York, NY  1001 to 5000 employees   \n",
       "\n",
       "          Type of ownership                          Industry  \\\n",
       "0         Company - Private   Insurance Agencies & Brokerages   \n",
       "1    Nonprofit Organization  Health Care Services & Hospitals   \n",
       "2   Private Practice / Firm                        Accounting   \n",
       "3          Company - Public                       Video Games   \n",
       "4  School / School District                    K-12 Education   \n",
       "\n",
       "                       company_txt              Sector  \n",
       "0                       Efinancial           Insurance  \n",
       "1         Comprehensive Healthcare         Health Care  \n",
       "2                      Mark Paneth  Accounting & Legal  \n",
       "3                           NCSOFT               Media  \n",
       "4  Success Academy Charter Schools           Education  "
      ]
     },
     "execution_count": 101,
     "metadata": {},
     "output_type": "execute_result"
    }
   ],
   "source": [
    "type(df_cat)\n",
    "df_cat.head()"
   ]
  },
  {
   "cell_type": "code",
   "execution_count": 106,
   "metadata": {},
   "outputs": [
    {
     "data": {
      "image/png": "[encoded data removed]",
      "text/plain": [
       "<Figure size 1440x720 with 3 Axes>"
      ]
     },
     "metadata": {
      "needs_background": "light"
     },
     "output_type": "display_data"
    }
   ],
   "source": [
    "cat_small=['Revenue', 'Title', 'Seniority']\n",
    "\n",
    "fig=plt.subplots(figsize=(20,10))\n",
    "for i, j in enumerate(cat_small):\n",
    "    plt.subplot(2, 2, i+1)\n",
    "    plt.subplots_adjust(hspace = 1.0)\n",
    "    ax=sns.countplot(x=j,data = df)\n",
    "    plt.xticks(rotation=90)       \n",
    "    plt.title(\"Percentages\")\n",
    "    total = len(df[j])\n",
    "    for p in ax.patches:\n",
    "        ax.annotate('{:.1f}%'.format(p.get_height()/(total/100)), (p.get_x()+0.15, p.get_height()+1))\n",
    "    \n",
    "   \n",
    "    "
   ]
  },
  {
   "cell_type": "code",
   "execution_count": 34,
   "metadata": {},
   "outputs": [
    {
     "data": {
      "text/plain": [
       "New York, NY         50\n",
       "San Francisco, CA    31\n",
       "Boston, MA           21\n",
       "Washington, DC       19\n",
       "Chicago, IL          17\n",
       "                     ..\n",
       "Utah                  1\n",
       "Marietta, GA          1\n",
       "Mount Laurel, NJ      1\n",
       "Cupertino, CA         1\n",
       "Syosset, NY           1\n",
       "Name: Location, Length: 294, dtype: int64"
      ]
     },
     "execution_count": 34,
     "metadata": {},
     "output_type": "execute_result"
    }
   ],
   "source": [
    "cat_num = df_cat['Location'].value_counts()\n",
    "cat_num"
   ]
  },
  {
   "cell_type": "code",
   "execution_count": 102,
   "metadata": {},
   "outputs": [
    {
     "name": "stdout",
     "output_type": "stream",
     "text": [
      "graph for Location: total = 294\n"
     ]
    },
    {
     "data": {
      "image/png": "[encoded data removed]",
      "text/plain": [
       "<Figure size 432x288 with 1 Axes>"
      ]
     },
     "metadata": {
      "needs_background": "light"
     },
     "output_type": "display_data"
    },
    {
     "name": "stdout",
     "output_type": "stream",
     "text": [
      "graph for job_state: total = 44\n"
     ]
    },
    {
     "data": {
      "image/png": "[encoded data removed]",
      "text/plain": [
       "<Figure size 432x288 with 1 Axes>"
      ]
     },
     "metadata": {
      "needs_background": "light"
     },
     "output_type": "display_data"
    },
    {
     "name": "stdout",
     "output_type": "stream",
     "text": [
      "graph for Headquarters: total = 316\n"
     ]
    },
    {
     "data": {
      "image/png": "[encoded data removed]",
      "text/plain": [
       "<Figure size 432x288 with 1 Axes>"
      ]
     },
     "metadata": {
      "needs_background": "light"
     },
     "output_type": "display_data"
    },
    {
     "name": "stdout",
     "output_type": "stream",
     "text": [
      "graph for Size: total = 9\n"
     ]
    },
    {
     "data": {
      "image/png": "[encoded data removed]",
      "text/plain": [
       "<Figure size 432x288 with 1 Axes>"
      ]
     },
     "metadata": {
      "needs_background": "light"
     },
     "output_type": "display_data"
    },
    {
     "name": "stdout",
     "output_type": "stream",
     "text": [
      "graph for Type of ownership: total = 14\n"
     ]
    },
    {
     "data": {
      "image/png": "[encoded data removed]",
      "text/plain": [
       "<Figure size 432x288 with 1 Axes>"
      ]
     },
     "metadata": {
      "needs_background": "light"
     },
     "output_type": "display_data"
    },
    {
     "name": "stdout",
     "output_type": "stream",
     "text": [
      "graph for Industry: total = 79\n"
     ]
    },
    {
     "data": {
      "image/png": "[encoded data removed]",
      "text/plain": [
       "<Figure size 432x288 with 1 Axes>"
      ]
     },
     "metadata": {
      "needs_background": "light"
     },
     "output_type": "display_data"
    },
    {
     "name": "stdout",
     "output_type": "stream",
     "text": [
      "graph for company_txt: total = 632\n"
     ]
    },
    {
     "data": {
      "image/png": "[encoded data removed]",
      "text/plain": [
       "<Figure size 432x288 with 1 Axes>"
      ]
     },
     "metadata": {
      "needs_background": "light"
     },
     "output_type": "display_data"
    },
    {
     "name": "stdout",
     "output_type": "stream",
     "text": [
      "graph for Sector: total = 26\n"
     ]
    },
    {
     "data": {
      "image/png": "[encoded data removed]",
      "text/plain": [
       "<Figure size 432x288 with 1 Axes>"
      ]
     },
     "metadata": {
      "needs_background": "light"
     },
     "output_type": "display_data"
    }
   ],
   "source": [
    "for i in df_cat.columns:\n",
    "    \n",
    "    cat_num = df_cat[i].value_counts()\n",
    "    print(\"graph for %s: total = %d\" % (i, len(cat_num)))\n",
    "    chart = sns.barplot(x=cat_num.index[0:5], y=cat_num[0:5])\n",
    "    chart.set_xticklabels(chart.get_xticklabels(), rotation=90)  \n",
    "    plt.show()"
   ]
  },
  {
   "cell_type": "code",
   "execution_count": 92,
   "metadata": {},
   "outputs": [
    {
     "data": {
      "image/png": "[encoded data removed]",
      "text/plain": [
       "<Figure size 1440x720 with 6 Axes>"
      ]
     },
     "metadata": {
      "needs_background": "light"
     },
     "output_type": "display_data"
    }
   ],
   "source": [
    "cat=['python', 'R', 'Spark', 'AWS', 'Excel', 'machine_learning']\n",
    "\n",
    "fig=plt.subplots(figsize=(20,10))\n",
    "for i, j in enumerate(cat):\n",
    "    plt.subplot(2, 3, i+1)\n",
    "    plt.subplots_adjust(hspace = 1.0)\n",
    "    ax=sns.countplot(x=j,data = df)\n",
    "    plt.xticks(rotation=90)       \n",
    "    plt.title(\"Percentages. of Skill asked by employer\")\n",
    "    total = len(df[j])\n",
    "    for p in ax.patches:\n",
    "        ax.annotate('{:.1f}%'.format(p.get_height()/(total/100)), (p.get_x()+0.15, p.get_height()+1))\n",
    "    \n",
    "   \n",
    "    "
   ]
  },
  {
   "cell_type": "code",
   "execution_count": 99,
   "metadata": {},
   "outputs": [
    {
     "data": {
      "text/plain": [
       "Index(['Job Title', 'Salary Estimate', 'Job Description', 'Rating',\n",
       "       'Company Name', 'Location', 'Headquarters', 'Size', 'Founded',\n",
       "       'Type of ownership', 'Industry', 'Sector', 'Revenue', 'Competitors',\n",
       "       'min_salary', 'max_salary', 'avg_salary', 'company_txt', 'age',\n",
       "       'python', 'R', 'Spark', 'AWS', 'Excel', 'SQL', 'machine_learning', 'AI',\n",
       "       'Seniority', 'Title', 'desc_len', 'num_comp', 'job_state'],\n",
       "      dtype='object')"
      ]
     },
     "execution_count": 99,
     "metadata": {},
     "output_type": "execute_result"
    }
   ],
   "source": [
    "df.columns"
   ]
  },
  {
   "cell_type": "code",
   "execution_count": 109,
   "metadata": {},
   "outputs": [
    {
     "data": {
      "text/html": [
       "<div>\n",
       "<style scoped>\n",
       "    .dataframe tbody tr th:only-of-type {\n",
       "        vertical-align: middle;\n",
       "    }\n",
       "\n",
       "    .dataframe tbody tr th {\n",
       "        vertical-align: top;\n",
       "    }\n",
       "\n",
       "    .dataframe thead th {\n",
       "        text-align: right;\n",
       "    }\n",
       "</style>\n",
       "<table border=\"1\" class=\"dataframe\">\n",
       "  <thead>\n",
       "    <tr style=\"text-align: right;\">\n",
       "      <th></th>\n",
       "      <th>avg_salary</th>\n",
       "    </tr>\n",
       "    <tr>\n",
       "      <th>Title</th>\n",
       "      <th></th>\n",
       "    </tr>\n",
       "  </thead>\n",
       "  <tbody>\n",
       "    <tr>\n",
       "      <th>MLE</th>\n",
       "      <td>116.781250</td>\n",
       "    </tr>\n",
       "    <tr>\n",
       "      <th>data analyst</th>\n",
       "      <td>69.859770</td>\n",
       "    </tr>\n",
       "    <tr>\n",
       "      <th>data engineer</th>\n",
       "      <td>103.927273</td>\n",
       "    </tr>\n",
       "    <tr>\n",
       "      <th>data scientist</th>\n",
       "      <td>110.194175</td>\n",
       "    </tr>\n",
       "    <tr>\n",
       "      <th>na</th>\n",
       "      <td>111.892045</td>\n",
       "    </tr>\n",
       "  </tbody>\n",
       "</table>\n",
       "</div>"
      ],
      "text/plain": [
       "                avg_salary\n",
       "Title                     \n",
       "MLE             116.781250\n",
       "data analyst     69.859770\n",
       "data engineer   103.927273\n",
       "data scientist  110.194175\n",
       "na              111.892045"
      ]
     },
     "execution_count": 109,
     "metadata": {},
     "output_type": "execute_result"
    }
   ],
   "source": [
    "df_salary_title=pd.pivot_table(df, index = 'Title', values = 'avg_salary')\n",
    "df_salary_title"
   ]
  },
  {
   "cell_type": "code",
   "execution_count": 124,
   "metadata": {},
   "outputs": [
    {
     "data": {
      "text/html": [
       "<div>\n",
       "<style scoped>\n",
       "    .dataframe tbody tr th:only-of-type {\n",
       "        vertical-align: middle;\n",
       "    }\n",
       "\n",
       "    .dataframe tbody tr th {\n",
       "        vertical-align: top;\n",
       "    }\n",
       "\n",
       "    .dataframe thead th {\n",
       "        text-align: right;\n",
       "    }\n",
       "</style>\n",
       "<table border=\"1\" class=\"dataframe\">\n",
       "  <thead>\n",
       "    <tr style=\"text-align: right;\">\n",
       "      <th></th>\n",
       "      <th>Rating</th>\n",
       "      <th>Founded</th>\n",
       "      <th>min_salary</th>\n",
       "      <th>max_salary</th>\n",
       "      <th>avg_salary</th>\n",
       "      <th>age</th>\n",
       "      <th>R</th>\n",
       "      <th>Spark</th>\n",
       "      <th>AWS</th>\n",
       "      <th>Excel</th>\n",
       "      <th>SQL</th>\n",
       "      <th>machine_learning</th>\n",
       "      <th>AI</th>\n",
       "      <th>desc_len</th>\n",
       "      <th>num_comp</th>\n",
       "    </tr>\n",
       "    <tr>\n",
       "      <th>python</th>\n",
       "      <th></th>\n",
       "      <th></th>\n",
       "      <th></th>\n",
       "      <th></th>\n",
       "      <th></th>\n",
       "      <th></th>\n",
       "      <th></th>\n",
       "      <th></th>\n",
       "      <th></th>\n",
       "      <th></th>\n",
       "      <th></th>\n",
       "      <th></th>\n",
       "      <th></th>\n",
       "      <th></th>\n",
       "      <th></th>\n",
       "    </tr>\n",
       "  </thead>\n",
       "  <tbody>\n",
       "    <tr>\n",
       "      <th>0</th>\n",
       "      <td>3.633224</td>\n",
       "      <td>1624.467105</td>\n",
       "      <td>52.723684</td>\n",
       "      <td>87.582237</td>\n",
       "      <td>70.152961</td>\n",
       "      <td>36.361842</td>\n",
       "      <td>0.016447</td>\n",
       "      <td>0.019737</td>\n",
       "      <td>0.095395</td>\n",
       "      <td>0.634868</td>\n",
       "      <td>0.0</td>\n",
       "      <td>0.032895</td>\n",
       "      <td>0.0</td>\n",
       "      <td>3038.575658</td>\n",
       "      <td>0.703947</td>\n",
       "    </tr>\n",
       "    <tr>\n",
       "      <th>1</th>\n",
       "      <td>3.714504</td>\n",
       "      <td>1723.954198</td>\n",
       "      <td>51.511450</td>\n",
       "      <td>86.847328</td>\n",
       "      <td>69.179389</td>\n",
       "      <td>33.648855</td>\n",
       "      <td>0.030534</td>\n",
       "      <td>0.129771</td>\n",
       "      <td>0.183206</td>\n",
       "      <td>0.633588</td>\n",
       "      <td>0.0</td>\n",
       "      <td>0.229008</td>\n",
       "      <td>0.0</td>\n",
       "      <td>3652.435115</td>\n",
       "      <td>0.824427</td>\n",
       "    </tr>\n",
       "  </tbody>\n",
       "</table>\n",
       "</div>"
      ],
      "text/plain": [
       "          Rating      Founded  min_salary  max_salary  avg_salary        age  \\\n",
       "python                                                                         \n",
       "0       3.633224  1624.467105   52.723684   87.582237   70.152961  36.361842   \n",
       "1       3.714504  1723.954198   51.511450   86.847328   69.179389  33.648855   \n",
       "\n",
       "               R     Spark       AWS     Excel  SQL  machine_learning   AI  \\\n",
       "python                                                                       \n",
       "0       0.016447  0.019737  0.095395  0.634868  0.0          0.032895  0.0   \n",
       "1       0.030534  0.129771  0.183206  0.633588  0.0          0.229008  0.0   \n",
       "\n",
       "           desc_len  num_comp  \n",
       "python                         \n",
       "0       3038.575658  0.703947  \n",
       "1       3652.435115  0.824427  "
      ]
     },
     "execution_count": 124,
     "metadata": {},
     "output_type": "execute_result"
    }
   ],
   "source": [
    "df_title = {k: v for (k, v) in df.groupby('Title')}\n",
    "#df_title['data analyst'].groupby('python').mean()"
   ]
  },
  {
   "cell_type": "code",
   "execution_count": null,
   "metadata": {},
   "outputs": [],
   "source": []
  },
  {
   "cell_type": "code",
   "execution_count": 115,
   "metadata": {},
   "outputs": [
    {
     "data": {
      "text/html": [
       "<div>\n",
       "<style scoped>\n",
       "    .dataframe tbody tr th:only-of-type {\n",
       "        vertical-align: middle;\n",
       "    }\n",
       "\n",
       "    .dataframe tbody tr th {\n",
       "        vertical-align: top;\n",
       "    }\n",
       "\n",
       "    .dataframe thead th {\n",
       "        text-align: right;\n",
       "    }\n",
       "</style>\n",
       "<table border=\"1\" class=\"dataframe\">\n",
       "  <thead>\n",
       "    <tr style=\"text-align: right;\">\n",
       "      <th></th>\n",
       "      <th>avg_salary</th>\n",
       "    </tr>\n",
       "    <tr>\n",
       "      <th>Seniority</th>\n",
       "      <th></th>\n",
       "    </tr>\n",
       "  </thead>\n",
       "  <tbody>\n",
       "    <tr>\n",
       "      <th>director</th>\n",
       "      <td>113.800000</td>\n",
       "    </tr>\n",
       "    <tr>\n",
       "      <th>jr</th>\n",
       "      <td>62.000000</td>\n",
       "    </tr>\n",
       "    <tr>\n",
       "      <th>manager</th>\n",
       "      <td>112.937500</td>\n",
       "    </tr>\n",
       "    <tr>\n",
       "      <th>na</th>\n",
       "      <td>85.812594</td>\n",
       "    </tr>\n",
       "    <tr>\n",
       "      <th>senior</th>\n",
       "      <td>99.038136</td>\n",
       "    </tr>\n",
       "  </tbody>\n",
       "</table>\n",
       "</div>"
      ],
      "text/plain": [
       "           avg_salary\n",
       "Seniority            \n",
       "director   113.800000\n",
       "jr          62.000000\n",
       "manager    112.937500\n",
       "na          85.812594\n",
       "senior      99.038136"
      ]
     },
     "execution_count": 115,
     "metadata": {},
     "output_type": "execute_result"
    }
   ],
   "source": [
    "pd.pivot_table(df, index = 'Seniority', values = 'avg_salary')"
   ]
  },
  {
   "cell_type": "code",
   "execution_count": 132,
   "metadata": {},
   "outputs": [
    {
     "data": {
      "text/html": [
       "<div>\n",
       "<style scoped>\n",
       "    .dataframe tbody tr th:only-of-type {\n",
       "        vertical-align: middle;\n",
       "    }\n",
       "\n",
       "    .dataframe tbody tr th {\n",
       "        vertical-align: top;\n",
       "    }\n",
       "\n",
       "    .dataframe thead th {\n",
       "        text-align: right;\n",
       "    }\n",
       "</style>\n",
       "<table border=\"1\" class=\"dataframe\">\n",
       "  <thead>\n",
       "    <tr style=\"text-align: right;\">\n",
       "      <th></th>\n",
       "      <th></th>\n",
       "      <th>avg_salary</th>\n",
       "    </tr>\n",
       "    <tr>\n",
       "      <th>Title</th>\n",
       "      <th>Seniority</th>\n",
       "      <th></th>\n",
       "    </tr>\n",
       "  </thead>\n",
       "  <tbody>\n",
       "    <tr>\n",
       "      <th rowspan=\"2\" valign=\"top\">MLE</th>\n",
       "      <th>na</th>\n",
       "      <td>116.625000</td>\n",
       "    </tr>\n",
       "    <tr>\n",
       "      <th>senior</th>\n",
       "      <td>117.250000</td>\n",
       "    </tr>\n",
       "    <tr>\n",
       "      <th rowspan=\"4\" valign=\"top\">data analyst</th>\n",
       "      <th>jr</th>\n",
       "      <td>62.000000</td>\n",
       "    </tr>\n",
       "    <tr>\n",
       "      <th>manager</th>\n",
       "      <td>71.000000</td>\n",
       "    </tr>\n",
       "    <tr>\n",
       "      <th>na</th>\n",
       "      <td>69.230380</td>\n",
       "    </tr>\n",
       "    <tr>\n",
       "      <th>senior</th>\n",
       "      <td>76.972973</td>\n",
       "    </tr>\n",
       "    <tr>\n",
       "      <th rowspan=\"3\" valign=\"top\">data engineer</th>\n",
       "      <th>manager</th>\n",
       "      <td>158.500000</td>\n",
       "    </tr>\n",
       "    <tr>\n",
       "      <th>na</th>\n",
       "      <td>100.555556</td>\n",
       "    </tr>\n",
       "    <tr>\n",
       "      <th>senior</th>\n",
       "      <td>107.638889</td>\n",
       "    </tr>\n",
       "    <tr>\n",
       "      <th rowspan=\"4\" valign=\"top\">data scientist</th>\n",
       "      <th>director</th>\n",
       "      <td>118.000000</td>\n",
       "    </tr>\n",
       "    <tr>\n",
       "      <th>manager</th>\n",
       "      <td>68.500000</td>\n",
       "    </tr>\n",
       "    <tr>\n",
       "      <th>na</th>\n",
       "      <td>110.864458</td>\n",
       "    </tr>\n",
       "    <tr>\n",
       "      <th>senior</th>\n",
       "      <td>108.157895</td>\n",
       "    </tr>\n",
       "    <tr>\n",
       "      <th rowspan=\"4\" valign=\"top\">na</th>\n",
       "      <th>director</th>\n",
       "      <td>112.750000</td>\n",
       "    </tr>\n",
       "    <tr>\n",
       "      <th>manager</th>\n",
       "      <td>121.100000</td>\n",
       "    </tr>\n",
       "    <tr>\n",
       "      <th>na</th>\n",
       "      <td>111.517241</td>\n",
       "    </tr>\n",
       "    <tr>\n",
       "      <th>senior</th>\n",
       "      <td>110.571429</td>\n",
       "    </tr>\n",
       "  </tbody>\n",
       "</table>\n",
       "</div>"
      ],
      "text/plain": [
       "                          avg_salary\n",
       "Title          Seniority            \n",
       "MLE            na         116.625000\n",
       "               senior     117.250000\n",
       "data analyst   jr          62.000000\n",
       "               manager     71.000000\n",
       "               na          69.230380\n",
       "               senior      76.972973\n",
       "data engineer  manager    158.500000\n",
       "               na         100.555556\n",
       "               senior     107.638889\n",
       "data scientist director   118.000000\n",
       "               manager     68.500000\n",
       "               na         110.864458\n",
       "               senior     108.157895\n",
       "na             director   112.750000\n",
       "               manager    121.100000\n",
       "               na         111.517241\n",
       "               senior     110.571429"
      ]
     },
     "execution_count": 132,
     "metadata": {},
     "output_type": "execute_result"
    }
   ],
   "source": [
    "pd.pivot_table(df, index = ['Title','Seniority'], values = 'avg_salary')"
   ]
  },
  {
   "cell_type": "code",
   "execution_count": 131,
   "metadata": {},
   "outputs": [
    {
     "data": {
      "text/html": [
       "<div>\n",
       "<style scoped>\n",
       "    .dataframe tbody tr th:only-of-type {\n",
       "        vertical-align: middle;\n",
       "    }\n",
       "\n",
       "    .dataframe tbody tr th {\n",
       "        vertical-align: top;\n",
       "    }\n",
       "\n",
       "    .dataframe thead th {\n",
       "        text-align: right;\n",
       "    }\n",
       "</style>\n",
       "<table border=\"1\" class=\"dataframe\">\n",
       "  <thead>\n",
       "    <tr style=\"text-align: right;\">\n",
       "      <th></th>\n",
       "      <th>avg_salary</th>\n",
       "    </tr>\n",
       "    <tr>\n",
       "      <th>job_state</th>\n",
       "      <th></th>\n",
       "    </tr>\n",
       "  </thead>\n",
       "  <tbody>\n",
       "    <tr>\n",
       "      <th>NM</th>\n",
       "      <td>130.000000</td>\n",
       "    </tr>\n",
       "    <tr>\n",
       "      <th>NE</th>\n",
       "      <td>130.000000</td>\n",
       "    </tr>\n",
       "    <tr>\n",
       "      <th>MN</th>\n",
       "      <td>108.833333</td>\n",
       "    </tr>\n",
       "    <tr>\n",
       "      <th>OR</th>\n",
       "      <td>100.500000</td>\n",
       "    </tr>\n",
       "    <tr>\n",
       "      <th>NH</th>\n",
       "      <td>99.500000</td>\n",
       "    </tr>\n",
       "  </tbody>\n",
       "</table>\n",
       "</div>"
      ],
      "text/plain": [
       "           avg_salary\n",
       "job_state            \n",
       " NM        130.000000\n",
       " NE        130.000000\n",
       " MN        108.833333\n",
       " OR        100.500000\n",
       " NH         99.500000"
      ]
     },
     "execution_count": 131,
     "metadata": {},
     "output_type": "execute_result"
    }
   ],
   "source": [
    "\n",
    "pd.pivot_table(df, index = 'job_state', values = 'avg_salary').sort_values(by='avg_salary',ascending=False).head()"
   ]
  },
  {
   "cell_type": "code",
   "execution_count": 134,
   "metadata": {},
   "outputs": [
    {
     "data": {
      "text/html": [
       "<div>\n",
       "<style scoped>\n",
       "    .dataframe tbody tr th:only-of-type {\n",
       "        vertical-align: middle;\n",
       "    }\n",
       "\n",
       "    .dataframe tbody tr th {\n",
       "        vertical-align: top;\n",
       "    }\n",
       "\n",
       "    .dataframe thead th {\n",
       "        text-align: right;\n",
       "    }\n",
       "</style>\n",
       "<table border=\"1\" class=\"dataframe\">\n",
       "  <thead>\n",
       "    <tr style=\"text-align: right;\">\n",
       "      <th></th>\n",
       "      <th>avg_salary</th>\n",
       "    </tr>\n",
       "    <tr>\n",
       "      <th>job_state</th>\n",
       "      <th></th>\n",
       "    </tr>\n",
       "  </thead>\n",
       "  <tbody>\n",
       "    <tr>\n",
       "      <th>IN</th>\n",
       "      <td>157.00</td>\n",
       "    </tr>\n",
       "    <tr>\n",
       "      <th>MN</th>\n",
       "      <td>136.75</td>\n",
       "    </tr>\n",
       "    <tr>\n",
       "      <th>NM</th>\n",
       "      <td>130.00</td>\n",
       "    </tr>\n",
       "    <tr>\n",
       "      <th>TN</th>\n",
       "      <td>128.25</td>\n",
       "    </tr>\n",
       "    <tr>\n",
       "      <th>AZ</th>\n",
       "      <td>123.00</td>\n",
       "    </tr>\n",
       "  </tbody>\n",
       "</table>\n",
       "</div>"
      ],
      "text/plain": [
       "           avg_salary\n",
       "job_state            \n",
       " IN            157.00\n",
       " MN            136.75\n",
       " NM            130.00\n",
       " TN            128.25\n",
       " AZ            123.00"
      ]
     },
     "execution_count": 134,
     "metadata": {},
     "output_type": "execute_result"
    }
   ],
   "source": [
    "pd.pivot_table(df[df.Title == 'data scientist'], index = 'job_state', values = 'avg_salary').sort_values('avg_salary', ascending = False).head()"
   ]
  },
  {
   "cell_type": "code",
   "execution_count": 136,
   "metadata": {},
   "outputs": [
    {
     "data": {
      "text/html": [
       "<div>\n",
       "<style scoped>\n",
       "    .dataframe tbody tr th:only-of-type {\n",
       "        vertical-align: middle;\n",
       "    }\n",
       "\n",
       "    .dataframe tbody tr th {\n",
       "        vertical-align: top;\n",
       "    }\n",
       "\n",
       "    .dataframe thead th {\n",
       "        text-align: right;\n",
       "    }\n",
       "</style>\n",
       "<table border=\"1\" class=\"dataframe\">\n",
       "  <thead>\n",
       "    <tr style=\"text-align: right;\">\n",
       "      <th></th>\n",
       "      <th>avg_salary</th>\n",
       "    </tr>\n",
       "    <tr>\n",
       "      <th>job_state</th>\n",
       "      <th></th>\n",
       "    </tr>\n",
       "  </thead>\n",
       "  <tbody>\n",
       "    <tr>\n",
       "      <th>NE</th>\n",
       "      <td>130.00</td>\n",
       "    </tr>\n",
       "    <tr>\n",
       "      <th>CO</th>\n",
       "      <td>81.10</td>\n",
       "    </tr>\n",
       "    <tr>\n",
       "      <th>DE</th>\n",
       "      <td>78.00</td>\n",
       "    </tr>\n",
       "    <tr>\n",
       "      <th>DC</th>\n",
       "      <td>77.50</td>\n",
       "    </tr>\n",
       "    <tr>\n",
       "      <th>KY</th>\n",
       "      <td>77.25</td>\n",
       "    </tr>\n",
       "  </tbody>\n",
       "</table>\n",
       "</div>"
      ],
      "text/plain": [
       "           avg_salary\n",
       "job_state            \n",
       " NE            130.00\n",
       " CO             81.10\n",
       " DE             78.00\n",
       " DC             77.50\n",
       " KY             77.25"
      ]
     },
     "execution_count": 136,
     "metadata": {},
     "output_type": "execute_result"
    }
   ],
   "source": [
    "pd.pivot_table(df[df.Title == 'data analyst'], index = 'job_state', values = 'avg_salary').sort_values('avg_salary', ascending = False).head()"
   ]
  },
  {
   "cell_type": "code",
   "execution_count": 164,
   "metadata": {},
   "outputs": [
    {
     "name": "stdout",
     "output_type": "stream",
     "text": [
      "        avg_salary\n",
      "Rating            \n",
      "2.5     112.666667\n",
      "3.9      95.352941\n",
      "4.7      94.970588\n",
      "3.0      93.823529\n",
      "3.4      93.600000\n",
      "                          avg_salary\n",
      "Industry                            \n",
      "Preschool & Child Care         157.0\n",
      "Logistics & Supply Chain       157.0\n",
      "Farm Support Services          152.0\n",
      "Other Retail Stores            140.0\n",
      "Vehicle Dealers                123.0\n",
      "                           avg_salary\n",
      "Sector                               \n",
      "Agriculture & Forestry     114.750000\n",
      "Biotech & Pharmaceuticals  104.322917\n",
      "Accounting & Legal          98.833333\n",
      "Aerospace & Defense         96.980769\n",
      "Finance                     91.717105\n",
      "                                  avg_salary\n",
      "Revenue                                     \n",
      "-1                                105.642857\n",
      "$10+ billion (USD)                 94.603261\n",
      "$500 million to $1 billion (USD)   94.562500\n",
      "Less than $1 million (USD)         90.437500\n",
      "$50 to $100 million (USD)          89.039683\n",
      "          avg_salary\n",
      "num_comp            \n",
      "4          93.000000\n",
      "1          90.812500\n",
      "3          90.068862\n",
      "0          87.879791\n",
      "2          83.083333\n"
     ]
    }
   ],
   "source": [
    "df_pivots = df[['Rating', 'Industry', 'Sector', 'Revenue', 'num_comp','avg_salary']]\n",
    "\n",
    "for i in df_pivots.loc[:,df_pivots.columns != 'avg_salary']:\n",
    "     \n",
    "         print(pd.pivot_table(df_pivots,index =i, values = 'avg_salary').sort_values('avg_salary', ascending = False).head())"
   ]
  },
  {
   "cell_type": "code",
   "execution_count": 165,
   "metadata": {},
   "outputs": [],
   "source": [
    "df.to_csv('eda_gd.csv')"
   ]
  }
 ],
 "metadata": {
  "kernelspec": {
   "display_name": "Python 3",
   "language": "python",
   "name": "python3"
  },
  "language_info": {
   "codemirror_mode": {
    "name": "ipython",
    "version": 3
   },
   "file_extension": ".py",
   "mimetype": "text/x-python",
   "name": "python",
   "nbconvert_exporter": "python",
   "pygments_lexer": "ipython3",
   "version": "3.7.6"
  }
 },
 "nbformat": 4,
 "nbformat_minor": 4
}
